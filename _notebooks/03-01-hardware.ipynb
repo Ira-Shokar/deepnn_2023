{
 "cells": [
  {
   "cell_type": "markdown",
   "metadata": {
    "slideshow": {
     "slide_type": "slide"
    }
   },
   "source": [
    "# Hardware Ecosystem\n",
    "\n",
    "## Nic Lane (ndl32)\n",
    "\n",
    "## DeepNN"
   ]
  },
  {
   "cell_type": "markdown",
   "metadata": {
    "slideshow": {
     "slide_type": "slide"
    }
   },
   "source": [
    "## Plan for the Day\n",
    "\n",
    "\n",
    "- __Introduction__\n",
    "    - __How did we get here?__\n",
    "- Hardware Foundation\n",
    "- Parallelism Leveraging\n",
    "- Data Movement and Bandwidth Pressures\n",
    "- Closing messages\n"
   ]
  },
  {
   "cell_type": "markdown",
   "metadata": {
    "slideshow": {
     "slide_type": "slide"
    }
   },
   "source": [
    "## Hardware at Deep Learning's birth\n",
    "<br/> \n",
    "\n",
    "<table>\n",
    "\n",
    "<tr>\n",
    "<td> <center> <h2> New York Times (1958) </h2> </center> </td>\n",
    "<td> <center> <h2> Eniac, 1950s SoTA Hardware </h2> </center> </td></tr>\n",
    "\n",
    "<tr>\n",
    "<td> <img src=\"inputs/NYT_core.png\" alt=\"Drawing\" style=\"width: 800px;\"/> </td>\n",
    "<td> <img src=\"inputs/Eniac.JPG\" alt=\"Drawing\" style=\"width: 800px;\"/> </td>\n",
    "</tr>\n",
    "\n",
    "</table>"
   ]
  },
  {
   "cell_type": "markdown",
   "metadata": {
    "slideshow": {
     "slide_type": "subslide"
    }
   },
   "source": [
    "## How did we get here? Deep Learning requires _peta_ FLOPS\n",
    "<br/> \n",
    "<center>0.01 PFLOP (left) = $10^{13}$ FLOPS (right)\n",
    "<table><tr>\n",
    "<td> <img src=\"inputs/provisional_MACs.png\" alt=\"Drawing\" style=\"width: 945px;\"/> </td>\n",
    "<td> <img src=\"inputs/FLOPS.png\" alt=\"Drawing\" style=\"width: 600px;\"/> </td>\n",
    "</tr></table>\n",
    "\n",
    "Credits: Our World in Data (https://ourworldindata.org/technological-progress)"
   ]
  },
  {
   "cell_type": "markdown",
   "metadata": {
    "slideshow": {
     "slide_type": "slide"
    }
   },
   "source": [
    "## Plan for the Day\n",
    "\n",
    "- Introduction\n",
    "- __Hardware Foundation__\n",
    "    - __Internal organisation of processors__\n",
    "    - __A typical organisation of a DL system__\n",
    "    - __Two pillars: Data Movement & Parallelism__\n",
    "- Parallelism Leveraging\n",
    "- Data Movement and Bandwidth Pressures\n",
    "- Closing messages\n"
   ]
  },
  {
   "cell_type": "markdown",
   "metadata": {
    "slideshow": {
     "slide_type": "slide"
    }
   },
   "source": [
    "## Internal Organisation of Processors\n",
    "\n",
    "<br/>\n",
    "<table>\n",
    "<tr>\n",
    "<td><center><img src=inputs/AMDprocessor.jpg alt=\"Drawing\" style=\"width: 800px;\"/></td>\n",
    "<td><center><img src=inputs/GPU.jpg alt=\"Drawing\" style=\"width: 1100px;\"/></td>\n",
    "<td><center><img src=inputs/TPU_out.png alt=\"Drawing\" style=\"width: 900px;\"/></td>\n",
    "</tr>\n",
    "</table>"
   ]
  },
  {
   "cell_type": "markdown",
   "metadata": {
    "slideshow": {
     "slide_type": "subslide"
    }
   },
   "source": [
    "## Central Processing Unit (CPU)\n",
    "\n",
    "<p><img src=inputs/provisional_CPU.png align=\"right\" alt=\"Drawing\" style=\"width: 700px;\"/>\n",
    "<ul>\n",
    "\n",
    "<li>General-purpose processor (in use since mid-1950s)</li>\n",
    "<li>CPU is composed of cores, each of which consists of several threads.</li>\n",
    "<li>Example high-end performance:</li>\n",
    "    <ul><li>AMD Ryzen 9 5950X</li></ul>\n",
    "    <ul><li>No. Cores:&emsp;&emsp;&emsp; <b>16</b></li></ul>\n",
    "    <ul><li>No. Threads:&emsp;&emsp; <b>32</b></li></ul>\n",
    "    <ul><li>Clock speed:&emsp;&emsp; <b>3.4GHz</b>, boost up to <b>4.9GHz</b></li></ul>\n",
    "    <ul><li>L2 cache:&emsp;&emsp;&ensp;&emsp; <b>8 MB</b></li></ul>\n",
    "    <ul><li>L3 cache:&emsp;&emsp;&ensp;&emsp; <b>64 MB</b></li></ul>\n",
    "<p>"
   ]
  },
  {
   "cell_type": "code",
   "execution_count": null,
   "metadata": {
    "scrolled": false,
    "slideshow": {
     "slide_type": "-"
    }
   },
   "outputs": [],
   "source": [
    "from custom_imports import *\n",
    "\n",
    "our_custom_net = BasicFCModel()\n",
    "our_custom_net.cpu()\n",
    "# OR\n",
    "device = torch.device('cpu')\n",
    "our_custom_net.to(device)"
   ]
  },
  {
   "cell_type": "markdown",
   "metadata": {
    "slideshow": {
     "slide_type": "subslide"
    }
   },
   "source": [
    "## Graphics Processing Unit\n",
    "\n",
    "<p><img src=inputs/provisional_GPU.png align=\"right\" alt=\"Drawing\" style=\"width: 700px;\"/>\n",
    "<ul>\n",
    "\n",
    "<li>Parallelism-exploiting Accelerator</li>\n",
    "<li>Originally used for graphics processing (in use since 1970s)</li>\n",
    "<li>GPU is composed of a large number of threads organised into blocks (cores)</li>\n",
    "<li>Example high-end performance:</li>\n",
    "    <ul><li>NVIDIA GEFORCE RTX 3090</li></ul>\n",
    "    <ul><li>No. Threads:&emsp;&emsp; <b>10496</b></li></ul>\n",
    "    <ul><li>Clock speed:&emsp;&emsp; <b>1.4GHz</b>, boost up to <b>1.7GHz</b></li></ul>\n",
    "    <ul><li>L2 cache:&emsp;&emsp;&ensp;&emsp; <b>24 GB</b></li></ul>\n",
    "<p>\n",
    "\n",
    "\n",
    "\n"
   ]
  },
  {
   "cell_type": "code",
   "execution_count": null,
   "metadata": {
    "scrolled": false,
    "slideshow": {
     "slide_type": "-"
    }
   },
   "outputs": [],
   "source": [
    "if torch.cuda.is_available():\n",
    "    our_custom_net.cuda()\n",
    "    # OR\n",
    "    device = torch.device('cuda:0')\n",
    "    our_custom_net.to(device)\n",
    "# Remember to do the same for all inputs to the network"
   ]
  },
  {
   "cell_type": "markdown",
   "metadata": {
    "slideshow": {
     "slide_type": "skip"
    }
   },
   "source": [
    "## Graphics Processing Unit\n",
    "<p><img src=inputs/provisional_GPU.png align=\"right\" alt=\"Drawing\" style=\"width: 700px;\"/>\n",
    "<ul>\n",
    "<li>Register (per thread)</li>\n",
    "    <ul><li>An automatic variable in kernel function</li></ul>\n",
    "    <ul><li>Low latency, high bandwidth</li></ul>\n",
    "<li>Local Memory (per thread)</li>\n",
    "    <ul><li>Variable in a kernel but can not be fitted in register</li></ul>\n",
    "<li>Shared Memory (between thread blocks)</li>\n",
    "    <ul><li>All threads faster than local and global memory</li></ul>\n",
    "    <ul><li>Use for inter-thread communication</li></ul>\n",
    "    <ul><li>physically shared with L1 cache</li></ul>\n",
    "<li>Constant memory</li>\n",
    "    <ul><li>Per Device Read-only memory</li></ul>\n",
    "<li>Texture Memory</li>\n",
    "    <ul><li>Per SM, read-only cache, optimized for 2D spatial locality</li></ul>\n",
    "<li>Global Memory</li>\n",
    "<p>\n",
    "\n",
    "\n",
    "\n"
   ]
  },
  {
   "cell_type": "markdown",
   "metadata": {
    "slideshow": {
     "slide_type": "slide"
    }
   },
   "source": [
    "## A typical organisation of a DL system\n",
    "\n",
    "<p><img src=inputs/provisional_hardwareOrg.png align=\"right\" alt=\"Drawing\" style=\"width: 1050px;\"/>\n",
    "<ul>\n",
    "<li>Processors</li>\n",
    "    <ul><li>CPU sits at the centre of the system</li></ul>\n",
    "<li><u><b>Accelerators</b></u></li>    \n",
    "    <ul><li>GPUs, TPUs, Eyeriss, other specialised</li></ul>\n",
    "    <ul><li>Specialised hardware can be designed with exploiting <u><b>parallelism</b></u> in mind</li></ul>    \n",
    "<li><u><b>Memory hierarchy</b></u></li>\n",
    "    <ul><li>Caches - smallest and fastest</li></ul>\n",
    "    <ul><li>Random Access Memory (RAM) - largest and slowest</li></ul>\n",
    "    <ul><li>Disk / SSD - storage</li></ul>    \n",
    "    <ul>\n",
    "        <ul><li>Stores the dataset; in crisis it supplements RAM up to Swap</li></ul>\n",
    "    </ul>\n",
    "    <ul><li><u><b>Bandwidth</b></u> can be serious a bottleneck</li></ul>\n",
    "<li>System, memory, and I/O buses</li>\n",
    "    <ul><li>Closer to processor - faster</li></ul>  \n",
    "    <ul><li>Designed to transport fixed-size data chunks</li></ul>     \n",
    "    <ul><li>Word size is a key system parameter 4 bytes (32 bit) or 8 bytes (64 bit) </pp></ul>    \n",
    "<li>Auxiliary hardware</li>\n",
    "    <ul><li>Mouse, keyboard, display</li></ul>     \n",
    "<p>\n",
    "    "
   ]
  },
  {
   "cell_type": "markdown",
   "metadata": {
    "slideshow": {
     "slide_type": "skip"
    }
   },
   "source": [
    "## Data Movement & Parallelism\n",
    "\n",
    "<center><img src=inputs/provisional_hardwareOrg.png alt=\"Drawing\" style=\"width: 1200px;\"/></center>"
   ]
  },
  {
   "cell_type": "markdown",
   "metadata": {
    "slideshow": {
     "slide_type": "skip"
    }
   },
   "source": [
    "## Memory and bandwidth: memory hierarchy\n",
    "\n",
    "<br/> \n",
    "<br/> \n",
    "\n",
    "<center><img src=inputs/provisional_hierarchy2.png alt=\"Drawing\" style=\"width: 1400px;\"/>"
   ]
  },
  {
   "cell_type": "markdown",
   "metadata": {
    "slideshow": {
     "slide_type": "subslide"
    }
   },
   "source": [
    "## Memory and bandwidth: data movement\n",
    "\n",
    "- Energy and latency are commensurate\n",
    "- Accessing RAM is 3 to 4 <u>orders of magnitude</u> slower than executing MAC\n",
    "\n",
    "<br/> \n",
    "<br/> \n",
    "<br/> \n",
    "\n",
    "\n",
    "<center><img src=inputs/latencynumbers.png alt=\"Drawing\" style=\"width: 2000px;\"/>"
   ]
  },
  {
   "cell_type": "markdown",
   "metadata": {
    "slideshow": {
     "slide_type": "subslide"
    }
   },
   "source": [
    "## Processor comparison based on memory and bandwidth     \n",
    "    \n",
    "<p><img src=inputs/provisional_memoryInversion.png align=\"right\" alt=\"Drawing\" style=\"width: 900px;\"/>\n",
    "<ul>\n",
    "<li>CPU has faster I/O bus than GPU, but it has lower bandwidth than GPU.</li>\n",
    "    <ul><pp>CPU can fetch small pieces of data very fast, GPU fetches them slower but in bulk.</pp></ul>\n",
    "<li>GPU has more lower-level memory than CPU.</li>\n",
    "    <ul><pp>Even though each individual thread and thread block have less memory than the</pp></ul> \n",
    "    <ul><pp>CPU threads and cores do, there are just so much more threads in the GPU that</pp></ul>  \n",
    "    <ul><pp><b>taken as a whole</b> they have much more lower-level memory.</pp></ul>\n",
    "    <ul><pp>This is memory inversion.</pp></ul>\n",
    "<p>\n",
    "    "
   ]
  },
  {
   "cell_type": "markdown",
   "metadata": {
    "slideshow": {
     "slide_type": "skip"
    }
   },
   "source": [
    "## The case for parallelism - Moore's law is slowing down\n",
    "\n",
    "- _Moore's law fuelled the prosperity of the past 50 years._\n",
    "\n",
    "<center><img src=inputs/Moores_Law.png alt=\"Drawing\" style=\"width: 1200px;\"/>\n",
    "\n",
    "Credits: Our World in Data (https://ourworldindata.org/technological-progress)"
   ]
  },
  {
   "cell_type": "markdown",
   "metadata": {
    "slideshow": {
     "slide_type": "slide"
    }
   },
   "source": [
    "## Plan for the Day\n",
    "\n",
    "- Introduction\n",
    "- Hardware Foundation\n",
    "- __Parallelism Leveraging__\n",
    "    - __Parallelism in Deep Learning__\n",
    "    - __Leveraging Deep Learning parallelism__ \n",
    "- Data Movement and Bandwidth Pressures\n",
    "- Closing messages"
   ]
  },
  {
   "cell_type": "markdown",
   "metadata": {
    "slideshow": {
     "slide_type": "subslide"
    }
   },
   "source": [
    "## The case for parallelism - Moore's law is slowing down\n",
    "\n",
    "- _As it slows, programmers and hardware designers are searching for alternative drivers of performance growth._\n",
    "\n",
    "<center><img src=inputs/Moores_Law2.png alt=\"Drawing\" style=\"width: 1300px;\"/>\n",
    "\n",
    "Credits: Karl Rupp (https://github.com/karlrupp/microprocessor-trend-data)"
   ]
  },
  {
   "cell_type": "markdown",
   "metadata": {
    "slideshow": {
     "slide_type": "subslide"
    }
   },
   "source": [
    "## Processor comparison based on parallelism\n"
   ]
  },
  {
   "cell_type": "code",
   "execution_count": 3,
   "metadata": {
    "scrolled": false
   },
   "outputs": [
    {
     "name": "stdout",
     "output_type": "stream",
     "text": [
      "CPU matrix multiplication\n",
      "CPU took 0.0005156993865966797 seconds\n",
      "GPU matrix multiplication\n",
      "GPU took 0.0002989768981933594 seconds\n"
     ]
    }
   ],
   "source": [
    "print(\"CPU matrix multiplication\")\n",
    "a, b = [torch.rand(2**10, 2**10) for _ in range(2)]\n",
    "start = time()\n",
    "a * b\n",
    "print(f'CPU took {time() - start} seconds')\n",
    "print(\"GPU matrix multiplication\")\n",
    "start = time()\n",
    "a * b\n",
    "print(f'GPU took {time() - start} seconds')"
   ]
  },
  {
   "cell_type": "markdown",
   "metadata": {
    "slideshow": {
     "slide_type": "skip"
    }
   },
   "source": [
    "## Plan for the Day\n",
    "\n",
    "- Introduction\n",
    "- Hardware Foundation\n",
    "- __Parallelism Leveraging__\n",
    "    - __Parallelism in Deep Learning__\n",
    "    - __Leveraging Deep Learning parallelism__ \n",
    "- Data Movement and Bandwidth Pressures\n",
    "- Closing messages\n"
   ]
  },
  {
   "cell_type": "markdown",
   "metadata": {
    "slideshow": {
     "slide_type": "subslide"
    }
   },
   "source": [
    "## Parallelism in Deep Learning training\n",
    "\n",
    "- Minibatch model update:\n",
    "\n",
    "<center><img src=inputs/Picture1.png alt=\"Drawing\" style=\"width: 1000px;\"/></center>\n",
    "\n",
    "- where $\\theta^{s}_{l,i}$ is an $i$'s parameter at layer $l$ value at step $s$ of the training process; $r$ is the learning rate; $B$ is the batch size; and $g^{s}_{l,i,b}$ is the $s$-th training step gradient coming from $b$-th training example for parameter update of $i$-th parameter at layer $l$.\n",
    "\n"
   ]
  },
  {
   "cell_type": "markdown",
   "metadata": {
    "slideshow": {
     "slide_type": "subslide"
    }
   },
   "source": [
    "## DL parallelism: parallelize backprop through an example\n",
    "\n",
    "- The matrix multiplications in the forward and backward passes can be parallelized:\n",
    "\n",
    "<center><img src=inputs/Picture2.png alt=\"Drawing\" style=\"width: 1000px;\"/></center>\n",
    "\n",
    "- Fast inference is unthinkable without parallel matrix multiplication.\n",
    "- Frequent synchronization is needed - at each layer the parallel threads need to sync up."
   ]
  },
  {
   "cell_type": "markdown",
   "metadata": {
    "slideshow": {
     "slide_type": "subslide"
    }
   },
   "source": [
    "## DL parallelism: parallelize gradient sample computation\n",
    "\n",
    "- Gradients for individual training examples can be computed in parallel:\n",
    "\n",
    "<center><img src=inputs/Picture3.png alt=\"Drawing\" style=\"width: 1000px;\"/></center>\n",
    "\n",
    "- Synchronization is needed only at the point where we sum the individual gradients across the batch."
   ]
  },
  {
   "cell_type": "markdown",
   "metadata": {
    "slideshow": {
     "slide_type": "subslide"
    }
   },
   "source": [
    "## DL parallelism: parallelize update iterations\n",
    "\n",
    "- Gradient updates from separate batches can be computed in parallel:\n",
    "\n",
    "<center><img src=inputs/Picture4.png alt=\"Drawing\" style=\"width: 1000px;\"/></center>\n",
    "\n",
    "- Imagine computing $N$ batches at the same time in parallel:\n",
    "    - We can see this as using $N-1$ outdated gradient when making update based on the second batch.\n",
    "    - We can see this as using $N$ gradient estimates in place of the usual $1$ that SGD is based on."
   ]
  },
  {
   "cell_type": "markdown",
   "metadata": {
    "slideshow": {
     "slide_type": "subslide"
    }
   },
   "source": [
    "## DL parallelism: parallelize the training of multiple models \n",
    "\n",
    "- In the course of solving a given DL problem one would often train competing models because of:\n",
    "    - The choice of hyperparameters such as architecture, initialization,  dropout and learning rates, regularization, ...\n",
    "    - The desire to build a model ensemble.\n",
    "\n",
    "<center><img src=inputs/hyperparameter.jpeg alt=\"Drawing\" style=\"width: 1800px;\"/></center>\n",
    "\n",
    "- The models are independent of each other and thus can be computed in parallel."
   ]
  },
  {
   "cell_type": "markdown",
   "metadata": {
    "slideshow": {
     "slide_type": "skip"
    }
   },
   "source": [
    "## Leveraging Deep Learning parallelism \n",
    "\n",
    "- CPUs, GPUs, multi-GPU, and multi-machine each offer unique opportunities to leverage the four sources of parallelism.\n",
    "\n",
    "XXXX\n",
    "\n",
    "XXXX\n",
    "\n",
    "\n",
    "XXXX\n",
    "\n",
    "\n",
    "XXXX\n"
   ]
  },
  {
   "cell_type": "markdown",
   "metadata": {
    "slideshow": {
     "slide_type": "subslide"
    }
   },
   "source": [
    "## CPU training\n",
    "\n",
    "The most a CPU can do for this setup is to:\n",
    "- Run through the batches _sequentially_ \n",
    "- Run through the model _sequentially_\n",
    "- Run through the batch _sequentially_\n",
    "- Potentially, _parallelize_ each layer computation between its cores\n",
    "    - Best case scenario: individual cores can tackle separate nodes / channels as these are independent of each other\n",
    "- _Parallelize_ matrix multiplication\n",
    "    - Best case scenario: Matrix multiplication is split between separate cores and threads. The degree of parallelism is, however, negligent."
   ]
  },
  {
   "cell_type": "markdown",
   "metadata": {
    "slideshow": {
     "slide_type": "subslide"
    }
   },
   "source": [
    "## CPU training\n",
    "\n",
    "Consequently:\n",
    "- Overpowered CPU threads are scrambling to juggle the many nodes / channels they need to compute.\n",
    "- The CPU is slowed down considerably by the fact that it needs to access its own L3 cache many more times than the GPU would, due to its lower memory access bandwidth. "
   ]
  },
  {
   "cell_type": "code",
   "execution_count": 7,
   "metadata": {
    "scrolled": false,
    "slideshow": {
     "slide_type": "-"
    }
   },
   "outputs": [
    {
     "name": "stdout",
     "output_type": "stream",
     "text": [
      "CPU training code\n",
      "CPU training of the above-defined model short example of how long it takes\n"
     ]
    },
    {
     "name": "stderr",
     "output_type": "stream",
     "text": [
      "Epoch 1, iter 469, loss 1.980: : 469it [00:02, 181.77it/s]\n",
      "Epoch 2, iter 469, loss 0.932: : 469it [00:02, 182.58it/s]"
     ]
    },
    {
     "name": "stdout",
     "output_type": "stream",
     "text": [
      "CPU took 5.22 seconds\n"
     ]
    },
    {
     "name": "stderr",
     "output_type": "stream",
     "text": [
      "\n"
     ]
    }
   ],
   "source": [
    "print(\"CPU training code\")\n",
    "print(\"CPU training of the above-defined model short example of how long it takes\")\n",
    "our_custom_net.cpu()\n",
    "start = time()\n",
    "train(lenet, MNIST_trainloader)\n",
    "print(f'CPU took {time()-start:.2f} seconds')"
   ]
  },
  {
   "cell_type": "markdown",
   "metadata": {
    "slideshow": {
     "slide_type": "subslide"
    }
   },
   "source": [
    "## GPU training\n",
    "\n",
    "The GPU, on the other hand, can:\n",
    "\n",
    "- Run through the batches _sequentially_ \n",
    "- Run through the model _sequentially_\n",
    "    - The model and the batch size just fit once in the memory of the GPU we chose.\n",
    "- In the best case scenario run through the training examples in a batch in _parallel_ \n",
    "    - For most GPUs the computation is, however, _sequential_ if their memory is not big enough to hold the entire batch of training examples. \n",
    "- _Parallelize_ each layer computation between its cores\n",
    "    - Groups of several cores are assigned to separate network layers / channels. Cores in the group need not be physically close to each other.\n",
    "- _Parallelize_ matrix multiplication\n",
    "    - The matrix multiplication needed to compute a given node / channel is split between the threads in the group that was assigned to it. Each thread computes separate sector of the input. "
   ]
  },
  {
   "cell_type": "markdown",
   "metadata": {
    "slideshow": {
     "slide_type": "subslide"
    }
   },
   "source": [
    "## GPU training\n",
    "\n",
    "Consequently:\n",
    "- GPU cores are engaged at all times as they sequentially push through the training examples all at the same time.\n",
    "- All threads need to sync-up at the end of each layer computation so that their outputs can become the inputs to the next layer. "
   ]
  },
  {
   "cell_type": "code",
   "execution_count": 8,
   "metadata": {
    "scrolled": false,
    "slideshow": {
     "slide_type": "-"
    }
   },
   "outputs": [
    {
     "name": "stdout",
     "output_type": "stream",
     "text": [
      "GPU training\n",
      "GPU training of the same example as in CPU\n"
     ]
    },
    {
     "name": "stderr",
     "output_type": "stream",
     "text": [
      "Epoch 1, iter 118, iter loss 0.786: : 118it [00:02, 52.62it/s]\n",
      "Epoch 2, iter 118, iter loss 0.760: : 118it [00:02, 57.48it/s]"
     ]
    },
    {
     "name": "stdout",
     "output_type": "stream",
     "text": [
      "GPU took 4.37 seconds\n"
     ]
    },
    {
     "name": "stderr",
     "output_type": "stream",
     "text": [
      "\n"
     ]
    }
   ],
   "source": [
    "print(\"GPU training\")\n",
    "print(\"GPU training of the same example as in CPU\")\n",
    "lenet.cuda()\n",
    "\n",
    "batch_size = 512\n",
    "gpu_trainloader = make_MNIST_loader(batch_size=batch_size)\n",
    "start = time()\n",
    "gpu_train(lenet, gpu_trainloader)\n",
    "print(f'GPU took {time()-start:.2f} seconds')"
   ]
  },
  {
   "cell_type": "markdown",
   "metadata": {
    "slideshow": {
     "slide_type": "subslide"
    }
   },
   "source": [
    "## GPU parallelism: matrix multiplication example\n",
    "\n",
    "<br/> \n",
    "\n",
    "<table><tr>\n",
    "<td> <center> <h2> GPU </h2> </center></td>\n",
    "<td> <center> <h2> Naive implementation </h2> </center></td>\n",
    "<td> <center> <h2> Shared memory implementation </h2> </center></td>\n",
    "</tr>\n",
    "    \n",
    "<tr>\n",
    "<td><center><img src=inputs/provisional_GPU.png alt=\"Drawing\" style=\"width: 500px;\"/></center></td>\n",
    "<td><center><img src=inputs/provisional_matmulVOsharedMemory.png alt=\"Drawing\" style=\"width: 500px;\"/></center></td>\n",
    "<td><center><img src=inputs/provisional_matmul.png alt=\"Drawing\" style=\"width: 500px;\"/></center></td>\n",
    "</tr>\n",
    "    \n",
    "<tr>\n",
    "<td>\n",
    "    <center><ul><pp><h6> 12 thread blocks, each with 16 threads. </h6></ul></pp></center>\n",
    "</td>\n",
    "<td>\n",
    "    <center><ul><pp><h6>Each <b>thread</b> reads one row of A, one <br>column of B and returns one element of C.</h6></ul></pp></center>\n",
    "</td>\n",
    "<td>  \n",
    "    <center><ul><pp><h6>Each <b>thread <u>block</u></b> is computing <br>one square sub-matrix.</h6> </ul></pp></center>\n",
    "</td>\n",
    "</tr>\n",
    "</table>\n",
    "\n",
    "    "
   ]
  },
  {
   "cell_type": "markdown",
   "metadata": {
    "slideshow": {
     "slide_type": "subslide"
    }
   },
   "source": [
    "## GPU parallelism: matrix multiplication example\n",
    "\n",
    "<br/>\n",
    "<br/>\n",
    "\n",
    "<center><img src=inputs/fig7.png alt=\"Drawing\" style=\"width: 2000px;\"/></center>"
   ]
  },
  {
   "cell_type": "markdown",
   "metadata": {
    "slideshow": {
     "slide_type": "subslide"
    }
   },
   "source": [
    "## Multi-GPU training\n",
    "\n",
    "With multiple GPUs we can choose one of the following:\n",
    "\n",
    "- _Distribute_ the training examples of a batch between GPUs\n",
    "    - When individual GPUs can not hold the whole batch in the memory, this can be distributed between multiple cards.\n",
    "    - The computation has to sync-up for each Batch-Norm.\n",
    "- _Parallelize_ the model computation\n",
    "    - Separate layers or groups of layers are handled by separate GPUs.\n",
    "    - Computation syncs between pairs of GPU cards - as the one's outputs are the other's inputs.\n",
    "    - This creates a flow-through system that will keep all GPUs busy at all times during the training.\n",
    "    - Batch is processed sequentially, all GPUs sync up after each batch - either dead time or outdated gradients.\n",
    "- _Parallelize_ the gradient computation\n",
    "    - Each GPU can be given its own batch if we accept outdated model in gradient computations."
   ]
  },
  {
   "cell_type": "markdown",
   "metadata": {
    "slideshow": {
     "slide_type": "subslide"
    }
   },
   "source": [
    "## Multi-GPU training"
   ]
  },
  {
   "cell_type": "code",
   "execution_count": 9,
   "metadata": {
    "scrolled": false,
    "slideshow": {
     "slide_type": "-"
    }
   },
   "outputs": [
    {
     "name": "stdout",
     "output_type": "stream",
     "text": [
      "multi-GPU training\n",
      "GPU training of the same example as in single GPU but with two GPUs\n"
     ]
    },
    {
     "name": "stderr",
     "output_type": "stream",
     "text": [
      "Epoch 1, iter 59, iter loss 0.745: : 59it [00:02, 21.24it/s]\n",
      "Epoch 2, iter 59, iter loss 0.736: : 59it [00:01, 31.70it/s]"
     ]
    },
    {
     "name": "stdout",
     "output_type": "stream",
     "text": [
      "2 GPUs took 4.72 seconds\n"
     ]
    },
    {
     "name": "stderr",
     "output_type": "stream",
     "text": [
      "\n"
     ]
    }
   ],
   "source": [
    "print(\"multi-GPU training\")\n",
    "print(\"GPU training of the same example as in single GPU but with two GPUs\")\n",
    "our_custom_net_dp = lenet\n",
    "our_custom_net_dp.cuda()\n",
    "our_custom_net_dp = nn.DataParallel(our_custom_net_dp, device_ids=[0, 1])\n",
    "batch_size = 1024\n",
    "multigpu_trainloader = make_MNIST_loader(batch_size=batch_size)\n",
    "start = time()\n",
    "gpu_train(our_custom_net_dp, multigpu_trainloader)\n",
    "print(f'2 GPUs took {time()-start:.2f} seconds')"
   ]
  },
  {
   "cell_type": "markdown",
   "metadata": {
    "slideshow": {
     "slide_type": "subslide"
    }
   },
   "source": [
    "## Multi-Machine training\n",
    "\n",
    "In principle the same options as in multi-GPU:\n",
    "\n",
    "\n",
    "- _Distribute_ the training examples of a batch between GPUs\n",
    "    - This is rarely if ever needed on the scale of multi-Machine\n",
    "- _Parallelize_ the model computation\n",
    "    - Same principles as in multi-GPU.\n",
    "- _Parallelize_ the gradient computation\n",
    "    - Same principles as in multi-GPU.\n",
    "    \n",
    "In practice we would either take advantage of the latter two. In extreme examples one might do a combination of multiple options. "
   ]
  },
  {
   "cell_type": "markdown",
   "metadata": {
    "slideshow": {
     "slide_type": "subslide"
    }
   },
   "source": [
    "## Parallelism summary: model and data parallelism\n",
    "\n",
    "<br/> \n",
    "\n",
    "<table><tr>\n",
    "<td> <img src=\"inputs/dataParallelism.png\" alt=\"Drawing\" style=\"width: 700px;\"/> </td>\n",
    "<td> <img src=\"inputs/modelParallelism.png\" alt=\"Drawing\" style=\"width: 740px;\"/> </td>\n",
    "</tr></table>"
   ]
  },
  {
   "cell_type": "markdown",
   "metadata": {
    "slideshow": {
     "slide_type": "subslide"
    }
   },
   "source": [
    "## Parallelism bottlenecks: Synchronization & Communication\n",
    "\n",
    "\n",
    "<p><img src=inputs/distributed_bottlenecks4.png align=\"right\" alt=\"Drawing\" style=\"width: 1100px;\"/>\n",
    "<ul>\n",
    "<li>DL-training hardware needs to synchronize and communicate very frequently</li>\n",
    "    <ul><li>Model nodes are heavily interconnected at each model layer.</li></ul>\n",
    "    <ul><li>Data nodes are interconnected by batch-norm-style layers</li></ul>\n",
    "    <ul><li>Data nodes are interconnected at gradient computation</li></ul>\n",
    "<li>This communication occurs between</li>\n",
    "    <ul><li>Threads in a core (CPU and GPU)</li></ul> \n",
    "    <ul><li>Cores within a chip</li></ul>  \n",
    "    <ul><li>Pieces of hardware </li></ul>\n",
    "    <ul><pp><i>example: SLI bridge is a connector and a protocol for such a communication</i></pp></ul>\n",
    "<p>"
   ]
  },
  {
   "cell_type": "markdown",
   "metadata": {
    "slideshow": {
     "slide_type": "subslide"
    }
   },
   "source": [
    "## Bottlenecks beyond parallelism\n",
    "\n",
    "- DL training and inference do not take place solely on the accelerator.\n",
    "    - The accelerator accelerates the gradient computations and updates.\n",
    "    - The CPU will still need to be loading the data (model, train set) and saving the model (checkpointing).\n",
    "- The accelerator starves if it waits idly for its inputs due for example to slow CPU, I/O buses, or storage interface (SATA, SSD, NVMe)."
   ]
  },
  {
   "cell_type": "code",
   "execution_count": 11,
   "metadata": {
    "scrolled": false,
    "slideshow": {
     "slide_type": "-"
    }
   },
   "outputs": [
    {
     "name": "stdout",
     "output_type": "stream",
     "text": [
      "starving GPUs\n",
      "show in-code what starving GPU looks like\n",
      "Using only 1 worker for the dataloader, the time the GPU takes increases.\n"
     ]
    },
    {
     "name": "stderr",
     "output_type": "stream",
     "text": [
      "Epoch 1, iter 938, iter loss 0.699: : 938it [00:04, 214.02it/s]\n",
      "Epoch 2, iter 938, iter loss 0.619: : 938it [00:04, 208.96it/s]"
     ]
    },
    {
     "name": "stdout",
     "output_type": "stream",
     "text": [
      "GPU took 8.92 seconds\n"
     ]
    },
    {
     "name": "stderr",
     "output_type": "stream",
     "text": [
      "\n"
     ]
    }
   ],
   "source": [
    "print(\"starving GPUs\")\n",
    "print(\"show in-code what starving GPU looks like\")\n",
    "# Deliberately slow down data flow into the gpu \n",
    "# Do you have any suggestions how to do this in a more realistic way than just to force waiting?\n",
    "print('Using only 1 worker for the dataloader, the time the GPU takes increases.')\n",
    "lenet.cuda()\n",
    "batch_size = 64\n",
    "gpu_trainloader = make_MNIST_loader(batch_size=batch_size, num_workers=1)\n",
    "start = time()\n",
    "gpu_train(lenet, gpu_trainloader)\n",
    "print(f'GPU took {time()-start:.2f} seconds')"
   ]
  },
  {
   "cell_type": "markdown",
   "metadata": {
    "slideshow": {
     "slide_type": "slide"
    }
   },
   "source": [
    "## Plan for the Day\n",
    "\n",
    "- Introduction\n",
    "- Hardware Foundation\n",
    "- Parallelism Leveraging\n",
    "- __Data Movement and Bandwidth Pressures__\n",
    "    - __Deep Learning working set__\n",
    "    - __Mapping Deep Learning onto hardware__\n",
    "    - __Addressing memory pressure__\n",
    "- Closing messages\n"
   ]
  },
  {
   "cell_type": "markdown",
   "metadata": {
    "slideshow": {
     "slide_type": "slide"
    }
   },
   "source": [
    "## Deep Learning resource characterisation"
   ]
  },
  {
   "cell_type": "code",
   "execution_count": 12,
   "metadata": {},
   "outputs": [
    {
     "name": "stdout",
     "output_type": "stream",
     "text": [
      "profiling demo\n",
      "in-house DL training resource profiling code & output - based on the above model and training loop\n",
      "Operation                              OPS      \n",
      "-------------------------------------  -------  \n",
      "LeNet/Conv2d[conv1]/onnx::Conv         89856    \n",
      "LeNet/ReLU[relu1]/onnx::Relu           6912     \n",
      "LeNet/MaxPool2d[pool1]/onnx::MaxPool   2592     \n",
      "LeNet/Conv2d[conv2]/onnx::Conv         154624   \n",
      "LeNet/ReLU[relu2]/onnx::Relu           2048     \n",
      "LeNet/MaxPool2d[pool2]/onnx::MaxPool   768      \n",
      "LeNet/Linear[fc1]/onnx::Gemm           30720    \n",
      "LeNet/ReLU[relu3]/onnx::Relu           240      \n",
      "LeNet/Linear[fc2]/onnx::Gemm           7200     \n",
      "LeNet/ReLU[relu4]/onnx::Relu           120      \n",
      "LeNet/Linear[fc3]/onnx::Gemm           600      \n",
      "LeNet/ReLU[relu5]/onnx::Relu           20       \n",
      "------------------------------------   ------   \n",
      "Input size: (1, 1, 28, 28)\n",
      "295,700 FLOPs or approx. 0.00 GFLOPs\n"
     ]
    },
    {
     "data": {
      "image/png": "[encoded data removed]",
      "text/plain": [
       "<Figure size 1080x504 with 2 Axes>"
      ]
     },
     "metadata": {},
     "output_type": "display_data"
    }
   ],
   "source": [
    "print(\"profiling demo\")\n",
    "print(\"in-house DL training resource profiling code & output - based on the above model and training loop\")\n",
    "#for both of the below produce one figure for inference and one for training\n",
    "#MACs profiling - first slide; show as piechard\n",
    "\n",
    "lenet.cpu()\n",
    "profile_ops(lenet, shape=(1,1,28,28))"
   ]
  },
  {
   "cell_type": "markdown",
   "metadata": {
    "slideshow": {
     "slide_type": "subslide"
    }
   },
   "source": [
    "## Deep Learning working set\n",
    "\n",
    "- Working set - a collection of all elements needed for executing a given DL layer\n",
    "    - Input and output activations\n",
    "    - Parameters (weights & biases)"
   ]
  },
  {
   "cell_type": "code",
   "execution_count": 14,
   "metadata": {
    "scrolled": false,
    "slideshow": {
     "slide_type": "-"
    }
   },
   "outputs": [
    {
     "name": "stdout",
     "output_type": "stream",
     "text": [
      "working set profiling\n"
     ]
    },
    {
     "data": {
      "image/png": "[encoded data removed]",
      "text/plain": [
       "<Figure size 1080x504 with 1 Axes>"
      ]
     },
     "metadata": {
      "needs_background": "light"
     },
     "output_type": "display_data"
    }
   ],
   "source": [
    "print(\"working set profiling\")\n",
    "# compute the per-layer required memory:\n",
    "# memory to load weights, to load inputs, to save oputputs\n",
    "# visualze as a per-layer bar chart, each bar consists of three sections - the inputs, outputs, weights\n",
    "\n",
    "profile_layer_mem(lenet)"
   ]
  },
  {
   "cell_type": "markdown",
   "metadata": {
    "slideshow": {
     "slide_type": "subslide"
    }
   },
   "source": [
    "## Working Set requirement exceeding RAM"
   ]
  },
  {
   "cell_type": "code",
   "execution_count": 15,
   "metadata": {
    "scrolled": false,
    "slideshow": {
     "slide_type": "-"
    }
   },
   "outputs": [
    {
     "name": "stdout",
     "output_type": "stream",
     "text": [
      "exceeding RAM+Swap demo\n",
      "exceeding working set experiment - see the latency spike over a couple of bytes of working set\n",
      "Using 128 hidden nodes took 2.42 seconds,        training for 1000 epochs would take ~2423.7449169158936s\n",
      "Using 256 hidden nodes took 2.31 seconds,        training for 1000 epochs would take ~2311.570882797241s\n",
      "Using 512 hidden nodes took 2.38 seconds,        training for 1000 epochs would take ~2383.8846683502197s\n",
      "Using 1024 hidden nodes took 2.56 seconds,        training for 1000 epochs would take ~2559.4213008880615s\n",
      "Using 2048 hidden nodes took 3.10 seconds,        training for 1000 epochs would take ~3098.113536834717s\n",
      "Using 4096 hidden nodes took 7.20 seconds,        training for 1000 epochs would take ~7196.521997451782s\n",
      "Using 6144 hidden nodes took 13.21 seconds,        training for 1000 epochs would take ~13207.558155059814s\n"
     ]
    },
    {
     "data": {
      "image/png": "[encoded data removed]",
      "text/plain": [
       "<Figure size 432x288 with 1 Axes>"
      ]
     },
     "metadata": {
      "needs_background": "light"
     },
     "output_type": "display_data"
    }
   ],
   "source": [
    "print(\"exceeding RAM+Swap demo\")\n",
    "print(\"exceeding working set experiment - see the latency spike over a couple of bytes of working set\")\n",
    "# sample* a training speed of a model whose layer working sets just first in the memory\n",
    "# bump up layer dimensions which are far from reaching the RAM limit - see that the effect on latency is limited\n",
    "# bump up the layer(s) that are at the RAM limit - observe the latency spike rapidly\n",
    "# add profiling graphs for each of the cases, print out latency numbers.\n",
    "\n",
    "# *train for an epoch or two, give the latency & give a reasonable estimate of how long would the full training take (assuming X epochs)\n",
    "estimate_training_for(LeNet, 1000)"
   ]
  },
  {
   "cell_type": "markdown",
   "metadata": {
    "slideshow": {
     "slide_type": "subslide"
    }
   },
   "source": [
    "## Working Set requirement exceeding RAM + Swap\n"
   ]
  },
  {
   "cell_type": "code",
   "execution_count": 16,
   "metadata": {
    "scrolled": true,
    "slideshow": {
     "slide_type": "-"
    }
   },
   "outputs": [
    {
     "name": "stdout",
     "output_type": "stream",
     "text": [
      "OOM - massive images\n",
      "show in-code how this can hapen - say massive images; maybe show error message\n",
      "Loading too many images at once causes errors.\n"
     ]
    },
    {
     "name": "stderr",
     "output_type": "stream",
     "text": [
      "Epoch 1, iter 10, iter loss 0.596: : 10it [00:03,  2.78it/s]\n",
      "Epoch 2, iter 2, iter loss 0.592: : 2it [00:01,  1.69it/s]\n"
     ]
    },
    {
     "ename": "RuntimeError",
     "evalue": "DataLoader worker (pid(s) 7512) exited unexpectedly",
     "output_type": "error",
     "traceback": [
      "\u001b[0;31m---------------------------------------------------------------------------\u001b[0m",
      "\u001b[0;31mRuntimeError\u001b[0m                              Traceback (most recent call last)",
      "\u001b[0;32m~/miniconda3/lib/python3.8/site-packages/torch/utils/data/dataloader.py\u001b[0m in \u001b[0;36m_try_get_data\u001b[0;34m(self, timeout)\u001b[0m\n\u001b[1;32m    871\u001b[0m         \u001b[0;32mtry\u001b[0m\u001b[0;34m:\u001b[0m\u001b[0;34m\u001b[0m\u001b[0;34m\u001b[0m\u001b[0m\n\u001b[0;32m--> 872\u001b[0;31m             \u001b[0mdata\u001b[0m \u001b[0;34m=\u001b[0m \u001b[0mself\u001b[0m\u001b[0;34m.\u001b[0m\u001b[0m_data_queue\u001b[0m\u001b[0;34m.\u001b[0m\u001b[0mget\u001b[0m\u001b[0;34m(\u001b[0m\u001b[0mtimeout\u001b[0m\u001b[0;34m=\u001b[0m\u001b[0mtimeout\u001b[0m\u001b[0;34m)\u001b[0m\u001b[0;34m\u001b[0m\u001b[0;34m\u001b[0m\u001b[0m\n\u001b[0m\u001b[1;32m    873\u001b[0m             \u001b[0;32mreturn\u001b[0m \u001b[0;34m(\u001b[0m\u001b[0;32mTrue\u001b[0m\u001b[0;34m,\u001b[0m \u001b[0mdata\u001b[0m\u001b[0;34m)\u001b[0m\u001b[0;34m\u001b[0m\u001b[0;34m\u001b[0m\u001b[0m\n",
      "\u001b[0;32m~/miniconda3/lib/python3.8/multiprocessing/queues.py\u001b[0m in \u001b[0;36mget\u001b[0;34m(self, block, timeout)\u001b[0m\n\u001b[1;32m    106\u001b[0m                     \u001b[0mtimeout\u001b[0m \u001b[0;34m=\u001b[0m \u001b[0mdeadline\u001b[0m \u001b[0;34m-\u001b[0m \u001b[0mtime\u001b[0m\u001b[0;34m.\u001b[0m\u001b[0mmonotonic\u001b[0m\u001b[0;34m(\u001b[0m\u001b[0;34m)\u001b[0m\u001b[0;34m\u001b[0m\u001b[0;34m\u001b[0m\u001b[0m\n\u001b[0;32m--> 107\u001b[0;31m                     \u001b[0;32mif\u001b[0m \u001b[0;32mnot\u001b[0m \u001b[0mself\u001b[0m\u001b[0;34m.\u001b[0m\u001b[0m_poll\u001b[0m\u001b[0;34m(\u001b[0m\u001b[0mtimeout\u001b[0m\u001b[0;34m)\u001b[0m\u001b[0;34m:\u001b[0m\u001b[0;34m\u001b[0m\u001b[0;34m\u001b[0m\u001b[0m\n\u001b[0m\u001b[1;32m    108\u001b[0m                         \u001b[0;32mraise\u001b[0m \u001b[0mEmpty\u001b[0m\u001b[0;34m\u001b[0m\u001b[0;34m\u001b[0m\u001b[0m\n",
      "\u001b[0;32m~/miniconda3/lib/python3.8/multiprocessing/connection.py\u001b[0m in \u001b[0;36mpoll\u001b[0;34m(self, timeout)\u001b[0m\n\u001b[1;32m    256\u001b[0m         \u001b[0mself\u001b[0m\u001b[0;34m.\u001b[0m\u001b[0m_check_readable\u001b[0m\u001b[0;34m(\u001b[0m\u001b[0;34m)\u001b[0m\u001b[0;34m\u001b[0m\u001b[0;34m\u001b[0m\u001b[0m\n\u001b[0;32m--> 257\u001b[0;31m         \u001b[0;32mreturn\u001b[0m \u001b[0mself\u001b[0m\u001b[0;34m.\u001b[0m\u001b[0m_poll\u001b[0m\u001b[0;34m(\u001b[0m\u001b[0mtimeout\u001b[0m\u001b[0;34m)\u001b[0m\u001b[0;34m\u001b[0m\u001b[0;34m\u001b[0m\u001b[0m\n\u001b[0m\u001b[1;32m    258\u001b[0m \u001b[0;34m\u001b[0m\u001b[0m\n",
      "\u001b[0;32m~/miniconda3/lib/python3.8/multiprocessing/connection.py\u001b[0m in \u001b[0;36m_poll\u001b[0;34m(self, timeout)\u001b[0m\n\u001b[1;32m    423\u001b[0m     \u001b[0;32mdef\u001b[0m \u001b[0m_poll\u001b[0m\u001b[0;34m(\u001b[0m\u001b[0mself\u001b[0m\u001b[0;34m,\u001b[0m \u001b[0mtimeout\u001b[0m\u001b[0;34m)\u001b[0m\u001b[0;34m:\u001b[0m\u001b[0;34m\u001b[0m\u001b[0;34m\u001b[0m\u001b[0m\n\u001b[0;32m--> 424\u001b[0;31m         \u001b[0mr\u001b[0m \u001b[0;34m=\u001b[0m \u001b[0mwait\u001b[0m\u001b[0;34m(\u001b[0m\u001b[0;34m[\u001b[0m\u001b[0mself\u001b[0m\u001b[0;34m]\u001b[0m\u001b[0;34m,\u001b[0m \u001b[0mtimeout\u001b[0m\u001b[0;34m)\u001b[0m\u001b[0;34m\u001b[0m\u001b[0;34m\u001b[0m\u001b[0m\n\u001b[0m\u001b[1;32m    425\u001b[0m         \u001b[0;32mreturn\u001b[0m \u001b[0mbool\u001b[0m\u001b[0;34m(\u001b[0m\u001b[0mr\u001b[0m\u001b[0;34m)\u001b[0m\u001b[0;34m\u001b[0m\u001b[0;34m\u001b[0m\u001b[0m\n",
      "\u001b[0;32m~/miniconda3/lib/python3.8/multiprocessing/connection.py\u001b[0m in \u001b[0;36mwait\u001b[0;34m(object_list, timeout)\u001b[0m\n\u001b[1;32m    929\u001b[0m             \u001b[0;32mwhile\u001b[0m \u001b[0;32mTrue\u001b[0m\u001b[0;34m:\u001b[0m\u001b[0;34m\u001b[0m\u001b[0;34m\u001b[0m\u001b[0m\n\u001b[0;32m--> 930\u001b[0;31m                 \u001b[0mready\u001b[0m \u001b[0;34m=\u001b[0m \u001b[0mselector\u001b[0m\u001b[0;34m.\u001b[0m\u001b[0mselect\u001b[0m\u001b[0;34m(\u001b[0m\u001b[0mtimeout\u001b[0m\u001b[0;34m)\u001b[0m\u001b[0;34m\u001b[0m\u001b[0;34m\u001b[0m\u001b[0m\n\u001b[0m\u001b[1;32m    931\u001b[0m                 \u001b[0;32mif\u001b[0m \u001b[0mready\u001b[0m\u001b[0;34m:\u001b[0m\u001b[0;34m\u001b[0m\u001b[0;34m\u001b[0m\u001b[0m\n",
      "\u001b[0;32m~/miniconda3/lib/python3.8/selectors.py\u001b[0m in \u001b[0;36mselect\u001b[0;34m(self, timeout)\u001b[0m\n\u001b[1;32m    414\u001b[0m         \u001b[0;32mtry\u001b[0m\u001b[0;34m:\u001b[0m\u001b[0;34m\u001b[0m\u001b[0;34m\u001b[0m\u001b[0m\n\u001b[0;32m--> 415\u001b[0;31m             \u001b[0mfd_event_list\u001b[0m \u001b[0;34m=\u001b[0m \u001b[0mself\u001b[0m\u001b[0;34m.\u001b[0m\u001b[0m_selector\u001b[0m\u001b[0;34m.\u001b[0m\u001b[0mpoll\u001b[0m\u001b[0;34m(\u001b[0m\u001b[0mtimeout\u001b[0m\u001b[0;34m)\u001b[0m\u001b[0;34m\u001b[0m\u001b[0;34m\u001b[0m\u001b[0m\n\u001b[0m\u001b[1;32m    416\u001b[0m         \u001b[0;32mexcept\u001b[0m \u001b[0mInterruptedError\u001b[0m\u001b[0;34m:\u001b[0m\u001b[0;34m\u001b[0m\u001b[0;34m\u001b[0m\u001b[0m\n",
      "\u001b[0;32m~/miniconda3/lib/python3.8/site-packages/torch/utils/data/_utils/signal_handling.py\u001b[0m in \u001b[0;36mhandler\u001b[0;34m(signum, frame)\u001b[0m\n\u001b[1;32m     65\u001b[0m         \u001b[0;31m# Python can still get and update the process status successfully.\u001b[0m\u001b[0;34m\u001b[0m\u001b[0;34m\u001b[0m\u001b[0;34m\u001b[0m\u001b[0m\n\u001b[0;32m---> 66\u001b[0;31m         \u001b[0m_error_if_any_worker_fails\u001b[0m\u001b[0;34m(\u001b[0m\u001b[0;34m)\u001b[0m\u001b[0;34m\u001b[0m\u001b[0;34m\u001b[0m\u001b[0m\n\u001b[0m\u001b[1;32m     67\u001b[0m         \u001b[0;32mif\u001b[0m \u001b[0mprevious_handler\u001b[0m \u001b[0;32mis\u001b[0m \u001b[0;32mnot\u001b[0m \u001b[0;32mNone\u001b[0m\u001b[0;34m:\u001b[0m\u001b[0;34m\u001b[0m\u001b[0;34m\u001b[0m\u001b[0m\n",
      "\u001b[0;31mRuntimeError\u001b[0m: DataLoader worker (pid 7512) is killed by signal: Bus error. It is possible that dataloader's workers are out of shared memory. Please try to raise your shared memory limit.",
      "\nThe above exception was the direct cause of the following exception:\n",
      "\u001b[0;31mRuntimeError\u001b[0m                              Traceback (most recent call last)",
      "\u001b[0;32m<ipython-input-16-f2168c022c8c>\u001b[0m in \u001b[0;36m<module>\u001b[0;34m\u001b[0m\n\u001b[1;32m      7\u001b[0m \u001b[0mgpu_trainloader\u001b[0m \u001b[0;34m=\u001b[0m \u001b[0mmake_MNIST_loader\u001b[0m\u001b[0;34m(\u001b[0m\u001b[0mbatch_size\u001b[0m\u001b[0;34m=\u001b[0m\u001b[0mbatch_size\u001b[0m\u001b[0;34m,\u001b[0m \u001b[0mnum_workers\u001b[0m\u001b[0;34m=\u001b[0m\u001b[0;36m1\u001b[0m\u001b[0;34m)\u001b[0m\u001b[0;34m\u001b[0m\u001b[0;34m\u001b[0m\u001b[0m\n\u001b[1;32m      8\u001b[0m \u001b[0mstart\u001b[0m \u001b[0;34m=\u001b[0m \u001b[0mtime\u001b[0m\u001b[0;34m(\u001b[0m\u001b[0;34m)\u001b[0m\u001b[0;34m\u001b[0m\u001b[0;34m\u001b[0m\u001b[0m\n\u001b[0;32m----> 9\u001b[0;31m \u001b[0mgpu_train\u001b[0m\u001b[0;34m(\u001b[0m\u001b[0mlenet\u001b[0m\u001b[0;34m,\u001b[0m \u001b[0mgpu_trainloader\u001b[0m\u001b[0;34m)\u001b[0m\u001b[0;34m\u001b[0m\u001b[0;34m\u001b[0m\u001b[0m\n\u001b[0m\u001b[1;32m     10\u001b[0m \u001b[0mprint\u001b[0m\u001b[0;34m(\u001b[0m\u001b[0;34mf'GPU took {time()-start:.2f} seconds'\u001b[0m\u001b[0;34m)\u001b[0m\u001b[0;34m\u001b[0m\u001b[0;34m\u001b[0m\u001b[0m\n",
      "\u001b[0;32m/home/niclane/custom_imports.py\u001b[0m in \u001b[0;36mgpu_train\u001b[0;34m(net, trainloader, num_epochs)\u001b[0m\n\u001b[1;32m     67\u001b[0m \u001b[0;34m\u001b[0m\u001b[0m\n\u001b[1;32m     68\u001b[0m         \u001b[0mdata_tqdm\u001b[0m \u001b[0;34m=\u001b[0m \u001b[0mtqdm\u001b[0m\u001b[0;34m.\u001b[0m\u001b[0mtqdm\u001b[0m\u001b[0;34m(\u001b[0m\u001b[0menumerate\u001b[0m\u001b[0;34m(\u001b[0m\u001b[0mtrainloader\u001b[0m\u001b[0;34m)\u001b[0m\u001b[0;34m)\u001b[0m\u001b[0;34m\u001b[0m\u001b[0;34m\u001b[0m\u001b[0m\n\u001b[0;32m---> 69\u001b[0;31m         \u001b[0;32mfor\u001b[0m \u001b[0mi\u001b[0m\u001b[0;34m,\u001b[0m \u001b[0;34m(\u001b[0m\u001b[0minputs\u001b[0m\u001b[0;34m,\u001b[0m \u001b[0mlabels\u001b[0m\u001b[0;34m)\u001b[0m \u001b[0;32min\u001b[0m \u001b[0mdata_tqdm\u001b[0m\u001b[0;34m:\u001b[0m\u001b[0;34m\u001b[0m\u001b[0;34m\u001b[0m\u001b[0m\n\u001b[0m\u001b[1;32m     70\u001b[0m             \u001b[0;31m# zero the parameter gradients\u001b[0m\u001b[0;34m\u001b[0m\u001b[0;34m\u001b[0m\u001b[0;34m\u001b[0m\u001b[0m\n\u001b[1;32m     71\u001b[0m             \u001b[0minputs\u001b[0m \u001b[0;34m=\u001b[0m \u001b[0minputs\u001b[0m\u001b[0;34m.\u001b[0m\u001b[0mcuda\u001b[0m\u001b[0;34m(\u001b[0m\u001b[0;34m)\u001b[0m\u001b[0;34m\u001b[0m\u001b[0;34m\u001b[0m\u001b[0m\n",
      "\u001b[0;32m~/miniconda3/lib/python3.8/site-packages/tqdm/std.py\u001b[0m in \u001b[0;36m__iter__\u001b[0;34m(self)\u001b[0m\n\u001b[1;32m   1165\u001b[0m \u001b[0;34m\u001b[0m\u001b[0m\n\u001b[1;32m   1166\u001b[0m         \u001b[0;32mtry\u001b[0m\u001b[0;34m:\u001b[0m\u001b[0;34m\u001b[0m\u001b[0;34m\u001b[0m\u001b[0m\n\u001b[0;32m-> 1167\u001b[0;31m             \u001b[0;32mfor\u001b[0m \u001b[0mobj\u001b[0m \u001b[0;32min\u001b[0m \u001b[0miterable\u001b[0m\u001b[0;34m:\u001b[0m\u001b[0;34m\u001b[0m\u001b[0;34m\u001b[0m\u001b[0m\n\u001b[0m\u001b[1;32m   1168\u001b[0m                 \u001b[0;32myield\u001b[0m \u001b[0mobj\u001b[0m\u001b[0;34m\u001b[0m\u001b[0;34m\u001b[0m\u001b[0m\n\u001b[1;32m   1169\u001b[0m                 \u001b[0;31m# Update and possibly print the progressbar.\u001b[0m\u001b[0;34m\u001b[0m\u001b[0;34m\u001b[0m\u001b[0;34m\u001b[0m\u001b[0m\n",
      "\u001b[0;32m~/miniconda3/lib/python3.8/site-packages/torch/utils/data/dataloader.py\u001b[0m in \u001b[0;36m__next__\u001b[0;34m(self)\u001b[0m\n\u001b[1;32m    433\u001b[0m         \u001b[0;32mif\u001b[0m \u001b[0mself\u001b[0m\u001b[0;34m.\u001b[0m\u001b[0m_sampler_iter\u001b[0m \u001b[0;32mis\u001b[0m \u001b[0;32mNone\u001b[0m\u001b[0;34m:\u001b[0m\u001b[0;34m\u001b[0m\u001b[0;34m\u001b[0m\u001b[0m\n\u001b[1;32m    434\u001b[0m             \u001b[0mself\u001b[0m\u001b[0;34m.\u001b[0m\u001b[0m_reset\u001b[0m\u001b[0;34m(\u001b[0m\u001b[0;34m)\u001b[0m\u001b[0;34m\u001b[0m\u001b[0;34m\u001b[0m\u001b[0m\n\u001b[0;32m--> 435\u001b[0;31m         \u001b[0mdata\u001b[0m \u001b[0;34m=\u001b[0m \u001b[0mself\u001b[0m\u001b[0;34m.\u001b[0m\u001b[0m_next_data\u001b[0m\u001b[0;34m(\u001b[0m\u001b[0;34m)\u001b[0m\u001b[0;34m\u001b[0m\u001b[0;34m\u001b[0m\u001b[0m\n\u001b[0m\u001b[1;32m    436\u001b[0m         \u001b[0mself\u001b[0m\u001b[0;34m.\u001b[0m\u001b[0m_num_yielded\u001b[0m \u001b[0;34m+=\u001b[0m \u001b[0;36m1\u001b[0m\u001b[0;34m\u001b[0m\u001b[0;34m\u001b[0m\u001b[0m\n\u001b[1;32m    437\u001b[0m         \u001b[0;32mif\u001b[0m \u001b[0mself\u001b[0m\u001b[0;34m.\u001b[0m\u001b[0m_dataset_kind\u001b[0m \u001b[0;34m==\u001b[0m \u001b[0m_DatasetKind\u001b[0m\u001b[0;34m.\u001b[0m\u001b[0mIterable\u001b[0m \u001b[0;32mand\u001b[0m\u001b[0;31m \u001b[0m\u001b[0;31m\\\u001b[0m\u001b[0;34m\u001b[0m\u001b[0;34m\u001b[0m\u001b[0m\n",
      "\u001b[0;32m~/miniconda3/lib/python3.8/site-packages/torch/utils/data/dataloader.py\u001b[0m in \u001b[0;36m_next_data\u001b[0;34m(self)\u001b[0m\n\u001b[1;32m   1066\u001b[0m \u001b[0;34m\u001b[0m\u001b[0m\n\u001b[1;32m   1067\u001b[0m             \u001b[0;32massert\u001b[0m \u001b[0;32mnot\u001b[0m \u001b[0mself\u001b[0m\u001b[0;34m.\u001b[0m\u001b[0m_shutdown\u001b[0m \u001b[0;32mand\u001b[0m \u001b[0mself\u001b[0m\u001b[0;34m.\u001b[0m\u001b[0m_tasks_outstanding\u001b[0m \u001b[0;34m>\u001b[0m \u001b[0;36m0\u001b[0m\u001b[0;34m\u001b[0m\u001b[0;34m\u001b[0m\u001b[0m\n\u001b[0;32m-> 1068\u001b[0;31m             \u001b[0midx\u001b[0m\u001b[0;34m,\u001b[0m \u001b[0mdata\u001b[0m \u001b[0;34m=\u001b[0m \u001b[0mself\u001b[0m\u001b[0;34m.\u001b[0m\u001b[0m_get_data\u001b[0m\u001b[0;34m(\u001b[0m\u001b[0;34m)\u001b[0m\u001b[0;34m\u001b[0m\u001b[0;34m\u001b[0m\u001b[0m\n\u001b[0m\u001b[1;32m   1069\u001b[0m             \u001b[0mself\u001b[0m\u001b[0;34m.\u001b[0m\u001b[0m_tasks_outstanding\u001b[0m \u001b[0;34m-=\u001b[0m \u001b[0;36m1\u001b[0m\u001b[0;34m\u001b[0m\u001b[0;34m\u001b[0m\u001b[0m\n\u001b[1;32m   1070\u001b[0m             \u001b[0;32mif\u001b[0m \u001b[0mself\u001b[0m\u001b[0;34m.\u001b[0m\u001b[0m_dataset_kind\u001b[0m \u001b[0;34m==\u001b[0m \u001b[0m_DatasetKind\u001b[0m\u001b[0;34m.\u001b[0m\u001b[0mIterable\u001b[0m\u001b[0;34m:\u001b[0m\u001b[0;34m\u001b[0m\u001b[0;34m\u001b[0m\u001b[0m\n",
      "\u001b[0;32m~/miniconda3/lib/python3.8/site-packages/torch/utils/data/dataloader.py\u001b[0m in \u001b[0;36m_get_data\u001b[0;34m(self)\u001b[0m\n\u001b[1;32m   1032\u001b[0m         \u001b[0;32melse\u001b[0m\u001b[0;34m:\u001b[0m\u001b[0;34m\u001b[0m\u001b[0;34m\u001b[0m\u001b[0m\n\u001b[1;32m   1033\u001b[0m             \u001b[0;32mwhile\u001b[0m \u001b[0;32mTrue\u001b[0m\u001b[0;34m:\u001b[0m\u001b[0;34m\u001b[0m\u001b[0;34m\u001b[0m\u001b[0m\n\u001b[0;32m-> 1034\u001b[0;31m                 \u001b[0msuccess\u001b[0m\u001b[0;34m,\u001b[0m \u001b[0mdata\u001b[0m \u001b[0;34m=\u001b[0m \u001b[0mself\u001b[0m\u001b[0;34m.\u001b[0m\u001b[0m_try_get_data\u001b[0m\u001b[0;34m(\u001b[0m\u001b[0;34m)\u001b[0m\u001b[0;34m\u001b[0m\u001b[0;34m\u001b[0m\u001b[0m\n\u001b[0m\u001b[1;32m   1035\u001b[0m                 \u001b[0;32mif\u001b[0m \u001b[0msuccess\u001b[0m\u001b[0;34m:\u001b[0m\u001b[0;34m\u001b[0m\u001b[0;34m\u001b[0m\u001b[0m\n\u001b[1;32m   1036\u001b[0m                     \u001b[0;32mreturn\u001b[0m \u001b[0mdata\u001b[0m\u001b[0;34m\u001b[0m\u001b[0;34m\u001b[0m\u001b[0m\n",
      "\u001b[0;32m~/miniconda3/lib/python3.8/site-packages/torch/utils/data/dataloader.py\u001b[0m in \u001b[0;36m_try_get_data\u001b[0;34m(self, timeout)\u001b[0m\n\u001b[1;32m    883\u001b[0m             \u001b[0;32mif\u001b[0m \u001b[0mlen\u001b[0m\u001b[0;34m(\u001b[0m\u001b[0mfailed_workers\u001b[0m\u001b[0;34m)\u001b[0m \u001b[0;34m>\u001b[0m \u001b[0;36m0\u001b[0m\u001b[0;34m:\u001b[0m\u001b[0;34m\u001b[0m\u001b[0;34m\u001b[0m\u001b[0m\n\u001b[1;32m    884\u001b[0m                 \u001b[0mpids_str\u001b[0m \u001b[0;34m=\u001b[0m \u001b[0;34m', '\u001b[0m\u001b[0;34m.\u001b[0m\u001b[0mjoin\u001b[0m\u001b[0;34m(\u001b[0m\u001b[0mstr\u001b[0m\u001b[0;34m(\u001b[0m\u001b[0mw\u001b[0m\u001b[0;34m.\u001b[0m\u001b[0mpid\u001b[0m\u001b[0;34m)\u001b[0m \u001b[0;32mfor\u001b[0m \u001b[0mw\u001b[0m \u001b[0;32min\u001b[0m \u001b[0mfailed_workers\u001b[0m\u001b[0;34m)\u001b[0m\u001b[0;34m\u001b[0m\u001b[0;34m\u001b[0m\u001b[0m\n\u001b[0;32m--> 885\u001b[0;31m                 \u001b[0;32mraise\u001b[0m \u001b[0mRuntimeError\u001b[0m\u001b[0;34m(\u001b[0m\u001b[0;34m'DataLoader worker (pid(s) {}) exited unexpectedly'\u001b[0m\u001b[0;34m.\u001b[0m\u001b[0mformat\u001b[0m\u001b[0;34m(\u001b[0m\u001b[0mpids_str\u001b[0m\u001b[0;34m)\u001b[0m\u001b[0;34m)\u001b[0m \u001b[0;32mfrom\u001b[0m \u001b[0me\u001b[0m\u001b[0;34m\u001b[0m\u001b[0;34m\u001b[0m\u001b[0m\n\u001b[0m\u001b[1;32m    886\u001b[0m             \u001b[0;32mif\u001b[0m \u001b[0misinstance\u001b[0m\u001b[0;34m(\u001b[0m\u001b[0me\u001b[0m\u001b[0;34m,\u001b[0m \u001b[0mqueue\u001b[0m\u001b[0;34m.\u001b[0m\u001b[0mEmpty\u001b[0m\u001b[0;34m)\u001b[0m\u001b[0;34m:\u001b[0m\u001b[0;34m\u001b[0m\u001b[0;34m\u001b[0m\u001b[0m\n\u001b[1;32m    887\u001b[0m                 \u001b[0;32mreturn\u001b[0m \u001b[0;34m(\u001b[0m\u001b[0;32mFalse\u001b[0m\u001b[0;34m,\u001b[0m \u001b[0;32mNone\u001b[0m\u001b[0;34m)\u001b[0m\u001b[0;34m\u001b[0m\u001b[0;34m\u001b[0m\u001b[0m\n",
      "\u001b[0;31mRuntimeError\u001b[0m: DataLoader worker (pid(s) 7512) exited unexpectedly"
     ]
    }
   ],
   "source": [
    "print(\"OOM - massive images\")\n",
    "print(\"show in-code how this can hapen - say massive images; maybe show error message\")\n",
    "# How could we do this without affecting the recording process?\n",
    "print('Loading too many images at once causes errors.')\n",
    "lenet.cuda()\n",
    "batch_size = 6000\n",
    "gpu_trainloader = make_MNIST_loader(batch_size=batch_size, num_workers=1)\n",
    "start = time()\n",
    "gpu_train(lenet, gpu_trainloader)\n",
    "print(f'GPU took {time()-start:.2f} seconds')"
   ]
  },
  {
   "cell_type": "markdown",
   "metadata": {
    "slideshow": {
     "slide_type": "slide"
    }
   },
   "source": [
    "## Mapping Deep Models to hardware: Systolic Arrays\n",
    "\n",
    "<br/> \n",
    "\n",
    "<table><tr>\n",
    "<td> <center> <h2> Core principle </h2> </center></td>\n",
    "<td> <center> <h2> Systolic system matrix multiplication </h2> </center></td>\n",
    "</tr>\n",
    "<tr>\n",
    "<td><center><img src=inputs/basic_systolic_system.png alt=\"Drawing\" style=\"width: 900px;\"/></center></td>\n",
    "<td><center><video controls src=\"inputs/systolic_array.mp4\" width=\"900\"/></center></td>\n",
    "</tr>\n",
    "</table>"
   ]
  },
  {
   "cell_type": "markdown",
   "metadata": {
    "slideshow": {
     "slide_type": "subslide"
    }
   },
   "source": [
    "## Mapping Deep Models to hardware: weight, input, and output stationarity\n",
    "\n",
    "\n",
    "#### Weight stationary design \n",
    "<center><img src=inputs/weight_stationary.png style=\"width: 900px;\"/></center>\n",
    "\n",
    "#### Input stationary design\n",
    "<center><img src=inputs/input_stationary.png style=\"width: 900px;\"/></center>\n",
    "\n",
    "#### Output stationary design\n",
    "<center><img src=inputs/output_stationary.png style=\"width: 900px;\"/></center>"
   ]
  },
  {
   "cell_type": "markdown",
   "metadata": {
    "slideshow": {
     "slide_type": "subslide"
    }
   },
   "source": [
    "## Systolic array example: weight stationary Google Tensor Processing Unit (TPU)\n",
    "\n",
    "<br/> \n",
    "\n",
    "<center><img src=inputs/provisional_TPU3.png alt=\"Drawing\" style=\"width: 1200px;\"/>"
   ]
  },
  {
   "cell_type": "markdown",
   "metadata": {
    "slideshow": {
     "slide_type": "slide"
    }
   },
   "source": [
    "## Plan for the Day\n",
    "\n",
    "- Introduction\n",
    "- Hardware Foundation\n",
    "- Parallelism Leveraging\n",
    "- Data Movement and Bandwidth Pressures\n",
    "- __Closing messages__\n",
    "    - __Deep Learning stack__\n",
    "    - __Deep Learning and accelerator co-design__\n",
    "    - __The Hardware and the Software Lottery__\n"
   ]
  },
  {
   "cell_type": "markdown",
   "metadata": {
    "slideshow": {
     "slide_type": "slide"
    }
   },
   "source": [
    "## Deep Learning stack\n",
    "\n",
    "<br/> \n",
    "    \n",
    "<center><img src=inputs/TVM_stack2.png alt=\"Drawing\" style=\"width: 1700px;\"/>"
   ]
  },
  {
   "cell_type": "markdown",
   "metadata": {
    "slideshow": {
     "slide_type": "slide"
    }
   },
   "source": [
    "## Beyond hardware methods\n",
    "\n",
    "- Sparsity leveraging\n",
    "    - Sparsity-inducing compression\n",
    "    - Sparsity leveraging hardware\n",
    "- Numerical representation \n",
    "    - Low precision\n",
    "    - bfloat16 \n",
    "    - Quantization\n",
    "- Low-level implementations\n",
    "    - GEMM\n",
    "    - cuDNN"
   ]
  },
  {
   "cell_type": "markdown",
   "metadata": {
    "slideshow": {
     "slide_type": "slide"
    }
   },
   "source": [
    "## Deep Learning and accelerator co-design\n",
    "\n",
    "<br/> \n",
    "<br/> \n",
    "    \n",
    "<center><img src=inputs/codesign.png alt=\"Drawing\" style=\"width: 800px;\"/>"
   ]
  },
  {
   "cell_type": "markdown",
   "metadata": {
    "slideshow": {
     "slide_type": "subslide"
    }
   },
   "source": [
    "## AlexNet: how GPU memory defined its architecture\n",
    "\n",
    "- Alex Krizhevsky used two GTX 580 GPUs, each with 3GB of memory.\n",
    "- Theoretical AlexNet (without mid-way split) working set profiling:"
   ]
  },
  {
   "cell_type": "code",
   "execution_count": 17,
   "metadata": {
    "scrolled": false
   },
   "outputs": [
    {
     "name": "stdout",
     "output_type": "stream",
     "text": [
      "profile AlexNet layers - show memory requirements\n",
      "per-layer profiling of AlexNet - connects to the preceding slide\n"
     ]
    },
    {
     "data": {
      "image/png": "[encoded data removed]",
      "text/plain": [
       "<Figure size 1800x504 with 1 Axes>"
      ]
     },
     "metadata": {
      "needs_background": "light"
     },
     "output_type": "display_data"
    }
   ],
   "source": [
    "print(\"profile AlexNet layers - show memory requirements\")\n",
    "print(\"per-layer profiling of AlexNet - connects to the preceding slide\")\n",
    "from torchvision.models import alexnet as net\n",
    "anet = net()\n",
    "profile_layer_alexnet(anet)"
   ]
  },
  {
   "cell_type": "markdown",
   "metadata": {
    "slideshow": {
     "slide_type": "subslide"
    }
   },
   "source": [
    "## The actual AlexNet architecture\n",
    "\n",
    "AlexNet's architecture had to be split down the middle to accommodate the 3GB limit per unit in its two GPUs. \n",
    "\n",
    "<center><img src=inputs/AlexNet.png alt=\"Drawing\" style=\"width: 1400px;\"/>"
   ]
  },
  {
   "cell_type": "markdown",
   "metadata": {
    "slideshow": {
     "slide_type": "skip"
    }
   },
   "source": [
    "## Beyond hardware methods\n",
    "\n",
    "- Sparsity leveraging\n",
    "    - Sparsity-inducing compression\n",
    "    - Sparsity leveraging hardware\n",
    "- Numerical representation \n",
    "    - Low precision\n",
    "    - bfloat16 \n",
    "    - Quantization\n",
    "- Low-level implementations\n",
    "    - GEMM\n",
    "    - cuDNN\n"
   ]
  },
  {
   "cell_type": "markdown",
   "metadata": {
    "slideshow": {
     "slide_type": "slide"
    }
   },
   "source": [
    "## The Hardware and the Software Lotteries\n",
    "<br/>\n",
    "\n",
    "<center><b><i>The software and hardware lottery describes the success of a software or a piece of hardware <br/> resulting not from its universal superiority, but, rather, from its fit to the broader hardware and software ecosystem.</i></b></center>\n",
    "\n",
    "<br/> \n",
    "\n",
    "<table>\n",
    "\n",
    "<tr>\n",
    "<td> <center> <h2> Eniac (1950s) </h2> </center> </td>\n",
    "<td> <center> <h2> All-optical NN (2019) </h2> </center> </td></tr>\n",
    "\n",
    "<tr>\n",
    "<td> <img src=\"inputs/Eniac.JPG\" alt=\"Drawing\" style=\"width: 800px;\"/> </td>\n",
    "<td> <img src=\"inputs/futureDL.png\" alt=\"Drawing\" style=\"width: 800px;\"/> </td>\n",
    "</tr>\n",
    "\n",
    "</table>"
   ]
  },
  {
   "cell_type": "markdown",
   "metadata": {
    "slideshow": {
     "slide_type": "slide"
    }
   },
   "source": [
    "## Summary of the Day\n",
    "\n",
    "- Introduction\n",
    "- Hardware Foundation\n",
    "- Parallelism Leveraging\n",
    "- Data Movement and Bandwidth Pressures\n",
    "- Closing messages"
   ]
  },
  {
   "cell_type": "markdown",
   "metadata": {
    "slideshow": {
     "slide_type": "skip"
    }
   },
   "source": [
    "# Thank you for your attention!"
   ]
  },
  {
   "cell_type": "markdown",
   "metadata": {
    "slideshow": {
     "slide_type": "skip"
    }
   },
   "source": [
    "## Deep Learning resource characterisation"
   ]
  },
  {
   "cell_type": "code",
   "execution_count": 13,
   "metadata": {
    "slideshow": {
     "slide_type": "skip"
    }
   },
   "outputs": [
    {
     "data": {
      "image/png": "[encoded data removed]",
      "text/plain": [
       "<Figure size 1080x504 with 2 Axes>"
      ]
     },
     "metadata": {},
     "output_type": "display_data"
    }
   ],
   "source": [
    "#memory requirements profiling - second slide; show as piechard\n",
    "# Show proportion of data required for input, parameters and outputs\n",
    "\n",
    "profile_mem(lenet)"
   ]
  }
 ],
 "metadata": {
  "celltoolbar": "Slideshow",
  "kernelspec": {
   "display_name": "Python 3",
   "language": "python",
   "name": "python3"
  },
  "language_info": {
   "codemirror_mode": {
    "name": "ipython",
    "version": 3
   },
   "file_extension": ".py",
   "mimetype": "text/x-python",
   "name": "python",
   "nbconvert_exporter": "python",
   "pygments_lexer": "ipython3",
   "version": "3.8.5"
  },
  "rise": {
   "autolaunch": true,
   "enable_chalkboard": true
  }
 },
 "nbformat": 4,
 "nbformat_minor": 4
}
